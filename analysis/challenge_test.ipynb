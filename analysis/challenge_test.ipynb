{
 "cells": [
  {
   "cell_type": "markdown",
   "metadata": {},
   "source": [
    "### 1. 実験結果dfを作成"
   ]
  },
  {
   "cell_type": "code",
   "execution_count": 7,
   "metadata": {},
   "source": [
    "import pandas as pd\n",
    "\n",
    "data = {\n",
    "    'smile_time': [81, 174, 22, 312, 268, 225],  # 笑顔時間のリスト\n",
    "    'ideas': [6, 4, 0, 3, 5, 5],  # アイデアの数のリスト\n",
    "}\n",
    "\n",
    "# DataFrameを作成\n",
    "df = pd.DataFrame(data)\n",
    "\n",
    "# DataFrameの表示\n",
    "print(df)"
   ]
  },
  {
   "cell_type": "markdown",
   "metadata": {},
   "source": [
    "### 2. Shapiro-Wilk検定（n<50の小規模サンプル向け正規性の検定)\n",
    "参考：https://www.ibm.com/support/pages/kolmogorov-smirnov%E3%81%A8shapiro-wilk%E3%81%AE%E9%81%95%E3%81%84"
   ]
  },
  {
   "cell_type": "code",
   "execution_count": 8,
   "metadata": {},
   "source": [
    "from scipy.stats import shapiro\n",
    "\n",
    "# 笑顔時間データ、アイデア数データなどを対象に正規性検定を実施\n",
    "smile_time_data = df['smile_time']\n",
    "ideas_data = df['ideas']\n",
    "\n",
    "# 笑顔時間のShapiro-Wilk検定\n",
    "stat_smile, p_value_smile = shapiro(smile_time_data)\n",
    "print(f\"smile_time p値: {p_value_smile}\")\n",
    "if p_value_smile > 0.05:\n",
    "    print(\"笑顔時間のデータは正規分布に従う\")\n",
    "else:\n",
    "    print(\"笑顔時間のデータは正規分布に従わない\")\n",
    "\n",
    "# アイデア数のShapiro-Wilk検定\n",
    "stat_ideas, p_value_ideas = shapiro(ideas_data)\n",
    "print(f\"ideas p値: {p_value_ideas}\")\n",
    "if p_value_ideas > 0.05:\n",
    "    print(\"アイデア数のデータは正規分布に従う\")\n",
    "else:\n",
    "    print(\"アイデア数のデータは正規分布に従わない\")"
   ]
  },
  {
   "cell_type": "markdown",
   "metadata": {},
   "source": [
    "### 3. F検定（正規分布に従うときの2群間の等分散性の検定）\n",
    "参考：https://datawokagaku.com/f_test/"
   ]
  },
  {
   "cell_type": "code",
   "execution_count": 9,
   "metadata": {},
   "source": [
    "import numpy as np\n",
    "from scipy.stats import f\n",
    "\n",
    "# 笑顔時間とアイデア数のデータ\n",
    "smile_time = df['smile_time']\n",
    "ideas = df['ideas']\n",
    "\n",
    "# 分散を計算\n",
    "var_smile_time = np.var(smile_time, ddof=1)  # 分散（自由度1を設定）\n",
    "var_ideas = np.var(ideas, ddof=1)\n",
    "\n",
    "# F検定のF値を計算\n",
    "if var_smile_time > var_ideas:\n",
    "    F = var_smile_time / var_ideas\n",
    "else:\n",
    "    F = var_ideas / var_smile_time\n",
    "\n",
    "# 自由度を設定\n",
    "dfn = len(smile_time) - 1  # 笑顔時間の自由度\n",
    "dfd = len(ideas) - 1  # アイデア数の自由度\n",
    "\n",
    "# p値を計算\n",
    "p_value = 1 - f.cdf(F, dfn, dfd) # F分布の累積分布関数(cdf)を使ってp値を計算\n",
    "\n",
    "print(f\"F値: {F}\")\n",
    "print(f\"p値: {p_value}\")\n",
    "\n",
    "if p_value < 0.05:\n",
    "    print(\"帰無仮説を棄却: 等分散ではない\")\n",
    "else:\n",
    "    print(\"帰無仮説を採択: 等分散が仮定できる\")\n"
   ]
  },
  {
   "cell_type": "markdown",
   "metadata": {},
   "source": [
    "### 4. Welchのt検定（等分散を仮定しない2群の平均値の比較）"
   ]
  },
  {
   "cell_type": "code",
   "execution_count": 10,
   "metadata": {},
   "source": [
    "from scipy.stats import ttest_ind\n",
    "\n",
    "# 笑顔時間とアイデア数のデータを準備\n",
    "smile_time = df['smile_time']  # 笑顔時間データ\n",
    "ideas = df['ideas']  # アイデア数データ\n",
    "\n",
    "# Welchのt検定の実施（等分散性を仮定しない場合）\n",
    "stat, p_value = ttest_ind(smile_time, ideas, equal_var=False)\n",
    "\n",
    "print(f\"Welchのt検定の統計量: {stat}\")\n",
    "print(f\"p値: {p_value}\")\n",
    "\n",
    "if p_value < 0.05:\n",
    "    print(\"帰無仮説を棄却: 笑顔時間とアイデア数が影響し合っている可能性がある\")\n",
    "else:\n",
    "    print(\"帰無仮説を採択: 笑顔時間とアイデア数は影響しあっていない\")\n"
   ]
  },
  {
   "cell_type": "markdown",
   "metadata": {},
   "source": [
    "### 5. 線形回帰分析"
   ]
  },
  {
   "cell_type": "code",
   "execution_count": 11,
   "metadata": {},
   "source": [
    "import statsmodels.api as sm\n",
    "\n",
    "# データを準備\n",
    "X = df['ideas']  # 独立変数: アイデア数\n",
    "y = df['smile_time']  # 従属変数: 笑顔時間\n",
    "\n",
    "# 定数項を追加\n",
    "X = sm.add_constant(X)\n",
    "\n",
    "# 回帰モデルのフィット\n",
    "model = sm.OLS(y, X)\n",
    "results = model.fit()\n",
    "\n",
    "# 回帰結果の表示\n",
    "# print(results.summary())\n",
    "\n",
    "# 検定結果の解釈\n",
    "p_value = results.pvalues[1]  # 独立変数 'ideas' に対応する p値\n",
    "print(f\"p値: {p_value}\")\n",
    "\n",
    "if p_value < 0.05:\n",
    "    print(\"帰無仮説を棄却: アイデア数が笑顔時間に影響を与えている可能性がある\")\n",
    "else:\n",
    "    print(\"帰無仮説を採択: アイデア数が笑顔時間に影響を与えていない\")\n"
   ]
  },
  {
   "cell_type": "code",
   "execution_count": 12,
   "metadata": {},
   "source": [
    "# データを準備\n",
    "X = df['smile_time']  # 独立変数: 笑顔時間\n",
    "y = df['ideas']  # 従属変数: アイデア数\n",
    "\n",
    "# 定数項を追加\n",
    "X = sm.add_constant(X)\n",
    "\n",
    "# 回帰モデルのフィット\n",
    "model = sm.OLS(y, X)\n",
    "results = model.fit()\n",
    "\n",
    "# 回帰結果の表示\n",
    "# print(results.summary())\n",
    "\n",
    "# 検定結果の解釈\n",
    "p_value = results.pvalues[1]  # 独立変数 'smile_time' に対応する p値\n",
    "print(f\"p値: {p_value}\")\n",
    "\n",
    "if p_value < 0.05:\n",
    "    print(\"帰無仮説を棄却: 笑顔時間がアイデア数に影響を与えている可能性がある\")\n",
    "else:\n",
    "    print(\"帰無仮説を採択: 笑顔時間がアイデア数に影響を与えていない\")\n"
   ]
  },
  {
   "cell_type": "code",
   "execution_count": null,
   "metadata": {},
   "source": []
  }
 ],
 "metadata": {
  "kernelspec": {
   "display_name": "base",
   "language": "python",
   "name": "python3"
  },
  "language_info": {
   "codemirror_mode": {
    "name": "ipython",
    "version": 3
   },
   "file_extension": ".py",
   "mimetype": "text/x-python",
   "name": "python",
   "nbconvert_exporter": "python",
   "pygments_lexer": "ipython3",
   "version": "3.11.5"
  }
 },
 "nbformat": 4,
 "nbformat_minor": 2
}
